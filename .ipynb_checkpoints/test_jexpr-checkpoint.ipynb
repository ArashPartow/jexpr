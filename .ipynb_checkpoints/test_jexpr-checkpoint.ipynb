{
 "cells": [
  {
   "cell_type": "code",
   "execution_count": 6,
   "id": "a088d673",
   "metadata": {},
   "outputs": [],
   "source": [
    "import math\n",
    "import jexpr\n",
    "from jexpr.jexpr import *"
   ]
  },
  {
   "cell_type": "code",
   "execution_count": 7,
   "id": "23698f11",
   "metadata": {},
   "outputs": [],
   "source": [
    "s = \"\"\" x*sin(y); \"\"\"\n",
    "j = Expression(s)\n",
    "m = {'x': 1.2, 'y': 7.8}\n",
    "j.freeze(m)\n",
    "assert(j(m) == m['x']*math.sin(m['y']))"
   ]
  },
  {
   "cell_type": "code",
   "execution_count": 11,
   "id": "5ee8e8c6",
   "metadata": {},
   "outputs": [
    {
     "data": {
      "text/plain": [
       "2089.0499999999997"
      ]
     },
     "metadata": {},
     "output_type": "display_data"
    }
   ],
   "source": [
    "s = \"7*x[0]+2\"\n",
    "m = {'x': [298.15]}\n",
    "j = Expression(s)\n",
    "display(j(m))\n",
    "assert(j(m) == 7*m['x'][0]+2)"
   ]
  }
 ],
 "metadata": {
  "kernelspec": {
   "display_name": "Python 3 (ipykernel)",
   "language": "python",
   "name": "python3"
  },
  "language_info": {
   "codemirror_mode": {
    "name": "ipython",
    "version": 3
   },
   "file_extension": ".py",
   "mimetype": "text/x-python",
   "name": "python",
   "nbconvert_exporter": "python",
   "pygments_lexer": "ipython3",
   "version": "3.10.6"
  }
 },
 "nbformat": 4,
 "nbformat_minor": 5
}
