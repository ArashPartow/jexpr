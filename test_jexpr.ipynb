{
 "cells": [
  {
   "cell_type": "code",
   "execution_count": 6,
   "id": "a088d673",
   "metadata": {},
   "outputs": [],
   "source": [
    "import math\n",
    "import jexpr\n",
    "from jexpr.jexpr import *"
   ]
  },
  {
   "cell_type": "code",
   "execution_count": 7,
   "id": "23698f11",
   "metadata": {},
   "outputs": [],
   "source": [
    "s = \"\"\" x*sin(y); \"\"\"\n",
    "j = Expression(s)\n",
    "m = {'x': 1.2, 'y': 7.8}\n",
    "j.freeze(m)\n",
    "assert(j(m) == m['x']*math.sin(m['y']))"
   ]
  },
  {
   "cell_type": "code",
   "execution_count": 11,
   "id": "5ee8e8c6",
   "metadata": {},
   "outputs": [
    {
     "data": {
      "text/plain": [
       "2089.0499999999997"
      ]
     },
     "metadata": {},
     "output_type": "display_data"
    }
   ],
   "source": [
    "s = \"7*x[0]+2\"\n",
    "m = {'x': [298.15]}\n",
    "j = Expression(s)\n",
    "display(j(m))\n",
    "assert(j(m) == 7*m['x'][0]+2)"
   ]
  },
  {
   "cell_type": "code",
   "execution_count": 13,
   "id": "091e4eb6",
   "metadata": {},
   "outputs": [
    {
     "data": {
      "text/plain": [
       "17.0"
      ]
     },
     "metadata": {},
     "output_type": "display_data"
    }
   ],
   "source": [
    "s = \"sum(x)+2\"\n",
    "m = {'x': [1,2,3,4,5]}\n",
    "j = Expression(s)\n",
    "display(j(m))\n",
    "assert(j(m) == sum(m['x'])+2)"
   ]
  },
  {
   "cell_type": "code",
   "execution_count": 20,
   "id": "cbbf8e10",
   "metadata": {},
   "outputs": [
    {
     "data": {
      "text/plain": [
       "nan"
      ]
     },
     "metadata": {},
     "output_type": "display_data"
    },
    {
     "ename": "AssertionError",
     "evalue": "",
     "output_type": "error",
     "traceback": [
      "\u001b[0;31m---------------------------------------------------------------------------\u001b[0m",
      "\u001b[0;31mAssertionError\u001b[0m                            Traceback (most recent call last)",
      "Cell \u001b[0;32mIn [20], line 5\u001b[0m\n\u001b[1;32m      3\u001b[0m j \u001b[38;5;241m=\u001b[39m Expression(s)\n\u001b[1;32m      4\u001b[0m display(j(m))\n\u001b[0;32m----> 5\u001b[0m \u001b[38;5;28;01massert\u001b[39;00m(j(m) \u001b[38;5;241m==\u001b[39m m[\u001b[38;5;124m'\u001b[39m\u001b[38;5;124mx\u001b[39m\u001b[38;5;124m'\u001b[39m][\u001b[38;5;241m1\u001b[39m])\n",
      "\u001b[0;31mAssertionError\u001b[0m: "
     ]
    }
   ],
   "source": [
    "s = \"x[1]; \"\n",
    "m = {'x': [1,2,3,4,5]}\n",
    "j = Expression(s)\n",
    "display(j(m))\n",
    "assert(j(m) == m['x'][1])"
   ]
  },
  {
   "cell_type": "code",
   "execution_count": null,
   "id": "0b607785",
   "metadata": {},
   "outputs": [],
   "source": []
  }
 ],
 "metadata": {
  "kernelspec": {
   "display_name": "Python 3 (ipykernel)",
   "language": "python",
   "name": "python3"
  },
  "language_info": {
   "codemirror_mode": {
    "name": "ipython",
    "version": 3
   },
   "file_extension": ".py",
   "mimetype": "text/x-python",
   "name": "python",
   "nbconvert_exporter": "python",
   "pygments_lexer": "ipython3",
   "version": "3.10.6"
  }
 },
 "nbformat": 4,
 "nbformat_minor": 5
}
